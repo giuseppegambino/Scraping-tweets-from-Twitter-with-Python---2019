{
 "cells": [
  {
   "cell_type": "markdown",
   "metadata": {
    "colab_type": "text",
    "id": "E2XB_l-Hgzq_"
   },
   "source": [
    "# Scraping tweets from Twitter with Python - 2019"
   ]
  },
  {
   "cell_type": "markdown",
   "metadata": {
    "colab_type": "text",
    "id": "OD-28l_0p0PQ"
   },
   "source": [
    "In this notebook It is described how to scrape tweets with Twitter API.\n",
    "\n",
    "The code is commented but if you have any doubts, don't hesitate to get in touch with me"
   ]
  },
  {
   "cell_type": "markdown",
   "metadata": {
    "colab_type": "text",
    "id": "Fjad5jsr9YaM"
   },
   "source": [
    "## Step 1: Import the libraries "
   ]
  },
  {
   "cell_type": "code",
   "execution_count": 1,
   "metadata": {
    "colab": {},
    "colab_type": "code",
    "id": "9S4CiOh3RzFW"
   },
   "outputs": [],
   "source": [
    "import tweepy\n",
    "import csv"
   ]
  },
  {
   "cell_type": "markdown",
   "metadata": {
    "colab_type": "text",
    "id": "oRQd4-v0nQqH"
   },
   "source": [
    "## Step 2: Login to Developer Twitter "
   ]
  },
  {
   "cell_type": "markdown",
   "metadata": {
    "colab_type": "text",
    "id": "OD-28l_0p0PQ"
   },
   "source": [
    "To use the Twitter API you have to register on https://developer.twitter.com.\n",
    "It's easy and free."
   ]
  },
  {
   "cell_type": "code",
   "execution_count": 2,
   "metadata": {
    "colab": {},
    "colab_type": "code",
    "id": "iCi2oSdInRkC"
   },
   "outputs": [],
   "source": [
    "consumer_key = \"####\"\n",
    "consumer_secret = \"####\"\n",
    "access_token = \"####\"\n",
    "access_token_secret = \"####\""
   ]
  },
  {
   "cell_type": "code",
   "execution_count": 3,
   "metadata": {
    "colab": {},
    "colab_type": "code",
    "id": "5QJGFjzOMbfN"
   },
   "outputs": [],
   "source": [
    "auth = tweepy.OAuthHandler(consumer_key, consumer_secret)\n",
    "auth.set_access_token(access_token, access_token_secret)\n",
    "api = tweepy.API(auth, wait_on_rate_limit=True)"
   ]
  },
  {
   "cell_type": "markdown",
   "metadata": {
    "colab_type": "text",
    "id": "ry1jvEr9EIdd"
   },
   "source": [
    "## Step 3: Open the csv file in append mode to add the tweets"
   ]
  },
  {
   "cell_type": "code",
   "execution_count": 4,
   "metadata": {
    "colab": {},
    "colab_type": "code",
    "id": "XLYSTil4E0Dm"
   },
   "outputs": [],
   "source": [
    "csvFile = open('desktop/tweet/tweetIta.csv', 'a')\n",
    "csvWriter = csv.writer(csvFile)"
   ]
  },
  {
   "cell_type": "markdown",
   "metadata": {
    "colab_type": "text",
    "id": "qJKk_7JI-MtW"
   },
   "source": [
    "## Step 4: Scrape the tweets and saving on the file "
   ]
  },
  {
   "cell_type": "markdown",
   "metadata": {
    "colab_type": "text",
    "id": "OD-28l_0p0PQ"
   },
   "source": [
    "There are some variables that we have to change based on our search criteria.\n",
    "\n",
    "We can choose the language of the tweets that we want, just changing the parameter lang.\n",
    "\n",
    "In the variale q we must pass a keyword that will be present in each tweet that we want.\n",
    "\n",
    "With the variable tweet_mode set in extended we can save the full tweets. "
   ]
  },
  {
   "cell_type": "code",
   "execution_count": 5,
   "metadata": {
    "colab": {},
    "colab_type": "code",
    "id": "8G1jg0cj9Duf"
   },
   "outputs": [],
   "source": [
    "for tweet in tweepy.Cursor(api.search, lang=\"it\",  q=\"musica\", tweet_mode=\"extended\").items(100):\n",
    "        if not (hasattr(tweet, 'retweeted_status')): # to avoid retweet\n",
    "                csvWriter.writerow([tweet.user.screen_name, # saving only user name and tweet\n",
    "                                    tweet.full_text.replace(\"\\n\", \"\")])\n",
    "\n",
    "        if (hasattr(tweet, 'retweeted_status')): # if you wanna also the retweets\n",
    "                csvWriter.writerow([tweet.user.screen_name,\n",
    "                                    tweet.retweeted_status.full_text.replace(\"\\n\", \"\")])\n",
    "\n",
    "\n",
    "\n"
   ]
  }
 ],
 "metadata": {
  "accelerator": "TPU",
  "colab": {
   "collapsed_sections": [],
   "name": "Italian Pre-training AlBERTo from scratch with cloud TPU",
   "provenance": [],
   "version": "0.3.2"
  },
  "kernelspec": {
   "display_name": "Python 3",
   "language": "python",
   "name": "python3"
  },
  "language_info": {
   "codemirror_mode": {
    "name": "ipython",
    "version": 3
   },
   "file_extension": ".py",
   "mimetype": "text/x-python",
   "name": "python",
   "nbconvert_exporter": "python",
   "pygments_lexer": "ipython3",
   "version": "3.7.3"
  }
 },
 "nbformat": 4,
 "nbformat_minor": 1
}
